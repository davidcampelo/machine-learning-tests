{
 "cells": [
  {
   "cell_type": "markdown",
   "metadata": {},
   "source": [
    "## Decision trees\n",
    "A decision tree is a \"decision support tool that uses a tree-like graph or model of decisions and their possible consequences, including chance event outcomes, resource costs, and utility [1]. In machine learning, a tree can be used to visually and explicitly represent decisions and decision making, describing data according to a set of rules made on every node of the tree. The tree divides the observations used to build (train) the model and very leaf has a group of observations.\n",
    "\n",
    "In this notebook we're using the home prices using dataset from Melbourne, Australia. _Categorical values will not be considered._\n",
    "\n",
    "(Inspired by a tutorial published at www.kaggle.com)\n",
    "\n",
    "[1] https://en.wikipedia.org/wiki/Decision_tree"
   ]
  },
  {
   "cell_type": "markdown",
   "metadata": {},
   "source": [
    "### 1. Loading dataset"
   ]
  },
  {
   "cell_type": "code",
   "execution_count": 1,
   "metadata": {},
   "outputs": [
    {
     "data": {
      "text/html": [
       "<div>\n",
       "<style>\n",
       "    .dataframe thead tr:only-child th {\n",
       "        text-align: right;\n",
       "    }\n",
       "\n",
       "    .dataframe thead th {\n",
       "        text-align: left;\n",
       "    }\n",
       "\n",
       "    .dataframe tbody tr th {\n",
       "        vertical-align: top;\n",
       "    }\n",
       "</style>\n",
       "<table border=\"1\" class=\"dataframe\">\n",
       "  <thead>\n",
       "    <tr style=\"text-align: right;\">\n",
       "      <th></th>\n",
       "      <th>Rooms</th>\n",
       "      <th>Price</th>\n",
       "      <th>Distance</th>\n",
       "      <th>Postcode</th>\n",
       "      <th>Bedroom2</th>\n",
       "      <th>Bathroom</th>\n",
       "      <th>Car</th>\n",
       "      <th>Landsize</th>\n",
       "      <th>BuildingArea</th>\n",
       "      <th>YearBuilt</th>\n",
       "      <th>Lattitude</th>\n",
       "      <th>Longtitude</th>\n",
       "      <th>Propertycount</th>\n",
       "    </tr>\n",
       "  </thead>\n",
       "  <tbody>\n",
       "    <tr>\n",
       "      <th>count</th>\n",
       "      <td>18396.000000</td>\n",
       "      <td>1.839600e+04</td>\n",
       "      <td>18395.000000</td>\n",
       "      <td>18395.000000</td>\n",
       "      <td>14927.000000</td>\n",
       "      <td>14925.000000</td>\n",
       "      <td>14820.000000</td>\n",
       "      <td>13603.000000</td>\n",
       "      <td>7762.000000</td>\n",
       "      <td>8958.000000</td>\n",
       "      <td>15064.000000</td>\n",
       "      <td>15064.000000</td>\n",
       "      <td>18395.000000</td>\n",
       "    </tr>\n",
       "    <tr>\n",
       "      <th>mean</th>\n",
       "      <td>2.935040</td>\n",
       "      <td>1.056697e+06</td>\n",
       "      <td>10.389986</td>\n",
       "      <td>3107.140147</td>\n",
       "      <td>2.913043</td>\n",
       "      <td>1.538492</td>\n",
       "      <td>1.615520</td>\n",
       "      <td>558.116371</td>\n",
       "      <td>151.220219</td>\n",
       "      <td>1965.879996</td>\n",
       "      <td>-37.809849</td>\n",
       "      <td>144.996338</td>\n",
       "      <td>7517.975265</td>\n",
       "    </tr>\n",
       "    <tr>\n",
       "      <th>std</th>\n",
       "      <td>0.958202</td>\n",
       "      <td>6.419217e+05</td>\n",
       "      <td>6.009050</td>\n",
       "      <td>95.000995</td>\n",
       "      <td>0.964641</td>\n",
       "      <td>0.689311</td>\n",
       "      <td>0.955916</td>\n",
       "      <td>3987.326586</td>\n",
       "      <td>519.188596</td>\n",
       "      <td>37.013261</td>\n",
       "      <td>0.081152</td>\n",
       "      <td>0.106375</td>\n",
       "      <td>4488.416599</td>\n",
       "    </tr>\n",
       "    <tr>\n",
       "      <th>min</th>\n",
       "      <td>1.000000</td>\n",
       "      <td>8.500000e+04</td>\n",
       "      <td>0.000000</td>\n",
       "      <td>3000.000000</td>\n",
       "      <td>0.000000</td>\n",
       "      <td>0.000000</td>\n",
       "      <td>0.000000</td>\n",
       "      <td>0.000000</td>\n",
       "      <td>0.000000</td>\n",
       "      <td>1196.000000</td>\n",
       "      <td>-38.182550</td>\n",
       "      <td>144.431810</td>\n",
       "      <td>249.000000</td>\n",
       "    </tr>\n",
       "    <tr>\n",
       "      <th>25%</th>\n",
       "      <td>2.000000</td>\n",
       "      <td>6.330000e+05</td>\n",
       "      <td>6.300000</td>\n",
       "      <td>3046.000000</td>\n",
       "      <td>2.000000</td>\n",
       "      <td>1.000000</td>\n",
       "      <td>1.000000</td>\n",
       "      <td>176.500000</td>\n",
       "      <td>93.000000</td>\n",
       "      <td>1950.000000</td>\n",
       "      <td>-37.858100</td>\n",
       "      <td>144.931193</td>\n",
       "      <td>4294.000000</td>\n",
       "    </tr>\n",
       "    <tr>\n",
       "      <th>50%</th>\n",
       "      <td>3.000000</td>\n",
       "      <td>8.800000e+05</td>\n",
       "      <td>9.700000</td>\n",
       "      <td>3085.000000</td>\n",
       "      <td>3.000000</td>\n",
       "      <td>1.000000</td>\n",
       "      <td>2.000000</td>\n",
       "      <td>440.000000</td>\n",
       "      <td>126.000000</td>\n",
       "      <td>1970.000000</td>\n",
       "      <td>-37.803625</td>\n",
       "      <td>145.000920</td>\n",
       "      <td>6567.000000</td>\n",
       "    </tr>\n",
       "    <tr>\n",
       "      <th>75%</th>\n",
       "      <td>3.000000</td>\n",
       "      <td>1.302000e+06</td>\n",
       "      <td>13.300000</td>\n",
       "      <td>3149.000000</td>\n",
       "      <td>3.000000</td>\n",
       "      <td>2.000000</td>\n",
       "      <td>2.000000</td>\n",
       "      <td>651.000000</td>\n",
       "      <td>174.000000</td>\n",
       "      <td>2000.000000</td>\n",
       "      <td>-37.756270</td>\n",
       "      <td>145.060000</td>\n",
       "      <td>10331.000000</td>\n",
       "    </tr>\n",
       "    <tr>\n",
       "      <th>max</th>\n",
       "      <td>12.000000</td>\n",
       "      <td>9.000000e+06</td>\n",
       "      <td>48.100000</td>\n",
       "      <td>3978.000000</td>\n",
       "      <td>20.000000</td>\n",
       "      <td>8.000000</td>\n",
       "      <td>10.000000</td>\n",
       "      <td>433014.000000</td>\n",
       "      <td>44515.000000</td>\n",
       "      <td>2018.000000</td>\n",
       "      <td>-37.408530</td>\n",
       "      <td>145.526350</td>\n",
       "      <td>21650.000000</td>\n",
       "    </tr>\n",
       "  </tbody>\n",
       "</table>\n",
       "</div>"
      ],
      "text/plain": [
       "              Rooms         Price      Distance      Postcode      Bedroom2  \\\n",
       "count  18396.000000  1.839600e+04  18395.000000  18395.000000  14927.000000   \n",
       "mean       2.935040  1.056697e+06     10.389986   3107.140147      2.913043   \n",
       "std        0.958202  6.419217e+05      6.009050     95.000995      0.964641   \n",
       "min        1.000000  8.500000e+04      0.000000   3000.000000      0.000000   \n",
       "25%        2.000000  6.330000e+05      6.300000   3046.000000      2.000000   \n",
       "50%        3.000000  8.800000e+05      9.700000   3085.000000      3.000000   \n",
       "75%        3.000000  1.302000e+06     13.300000   3149.000000      3.000000   \n",
       "max       12.000000  9.000000e+06     48.100000   3978.000000     20.000000   \n",
       "\n",
       "           Bathroom           Car       Landsize  BuildingArea    YearBuilt  \\\n",
       "count  14925.000000  14820.000000   13603.000000   7762.000000  8958.000000   \n",
       "mean       1.538492      1.615520     558.116371    151.220219  1965.879996   \n",
       "std        0.689311      0.955916    3987.326586    519.188596    37.013261   \n",
       "min        0.000000      0.000000       0.000000      0.000000  1196.000000   \n",
       "25%        1.000000      1.000000     176.500000     93.000000  1950.000000   \n",
       "50%        1.000000      2.000000     440.000000    126.000000  1970.000000   \n",
       "75%        2.000000      2.000000     651.000000    174.000000  2000.000000   \n",
       "max        8.000000     10.000000  433014.000000  44515.000000  2018.000000   \n",
       "\n",
       "          Lattitude    Longtitude  Propertycount  \n",
       "count  15064.000000  15064.000000   18395.000000  \n",
       "mean     -37.809849    144.996338    7517.975265  \n",
       "std        0.081152      0.106375    4488.416599  \n",
       "min      -38.182550    144.431810     249.000000  \n",
       "25%      -37.858100    144.931193    4294.000000  \n",
       "50%      -37.803625    145.000920    6567.000000  \n",
       "75%      -37.756270    145.060000   10331.000000  \n",
       "max      -37.408530    145.526350   21650.000000  "
      ]
     },
     "execution_count": 1,
     "metadata": {},
     "output_type": "execute_result"
    }
   ],
   "source": [
    "import numpy as np\n",
    "import pandas as pd\n",
    "\n",
    "from sklearn.preprocessing import Imputer\n",
    "from sklearn.model_selection import train_test_split\n",
    "from sklearn.metrics import mean_absolute_error\n",
    "from sklearn.tree import DecisionTreeRegressor\n",
    "from sklearn.ensemble import RandomForestRegressor\n",
    "\n",
    "\n",
    "import matplotlib.pyplot as plt\n",
    "from matplotlib import style\n",
    "style.use('ggplot')\n",
    "\n",
    "df_housing = pd.read_csv('data/melb_data.csv', index_col=0)\n",
    "df_housing = df_housing.select_dtypes(exclude=['object']) # Keep just numeric columns (not using objects right now)\n",
    "df_housing.describe()"
   ]
  },
  {
   "cell_type": "markdown",
   "metadata": {},
   "source": [
    "### 2. Preliminary tests with DecisionTree and RandomForest\n",
    "In these preliminary tests we drop lines with NaN values and try a DecisionTreeRegressor and a RandomForestRegressor."
   ]
  },
  {
   "cell_type": "code",
   "execution_count": 2,
   "metadata": {
    "scrolled": true
   },
   "outputs": [
    {
     "name": "stdout",
     "output_type": "stream",
     "text": [
      "Number of NaN values \n",
      "Rooms                0\n",
      "Price                0\n",
      "Distance             1\n",
      "Postcode             1\n",
      "Bedroom2          3469\n",
      "Bathroom          3471\n",
      "Car               3576\n",
      "Landsize          4793\n",
      "BuildingArea     10634\n",
      "YearBuilt         9438\n",
      "Lattitude         3332\n",
      "Longtitude        3332\n",
      "Propertycount        1\n",
      "dtype: int64\n",
      "Number of valid observations = 6830\n"
     ]
    }
   ],
   "source": [
    "# Count of columns with NaN values\n",
    "print(\"Number of NaN values \\n{}\".format(df_housing.isnull().sum()))\n",
    "\n",
    "# Dropping NaN values\n",
    "df = df_housing.dropna(axis=0) # axis = 0 means we're looking on indexes (rows)\n",
    "print(\"Number of valid observations = {}\".format(df.shape[0]))\n",
    "\n",
    "# Loading predictors and target (X/y) \n",
    "predictors = ['Rooms', 'Bathroom', 'Landsize', 'BuildingArea', \n",
    "                        'YearBuilt', 'Lattitude', 'Longtitude']\n",
    "X = df[predictors]\n",
    "y = df.Price"
   ]
  },
  {
   "cell_type": "code",
   "execution_count": 3,
   "metadata": {},
   "outputs": [
    {
     "name": "stdout",
     "output_type": "stream",
     "text": [
      "train_size=5122 test_size=1708\n"
     ]
    }
   ],
   "source": [
    "# Split data into training and validation data, for both predictors and target\n",
    "# The split is based on a random number generator. Supplying a numeric value to\n",
    "# the random_state argument guarantees we get the same split every time we\n",
    "# call this method\n",
    "# Creating training/testing sets (75/25)\n",
    "X_train, X_test, y_train, y_test = train_test_split(X, y, test_size=0.25, random_state=0)\n",
    "\n",
    "print(\"train_size={} test_size={}\".format(len(X_train), len(X_test)))"
   ]
  },
  {
   "cell_type": "code",
   "execution_count": 4,
   "metadata": {},
   "outputs": [
    {
     "name": "stdout",
     "output_type": "stream",
     "text": [
      "Using a DecisionTree and dropping columns with Missing Values:\n",
      "Accuracy \t= 63.99%\n",
      "MEA \t\t= 247,707\n"
     ]
    }
   ],
   "source": [
    "# Now training a simple linear regression classifier\n",
    "classifier = DecisionTreeRegressor()\n",
    "classifier.fit(X_train, y_train)\n",
    "\n",
    "print(\"Using a DecisionTree and dropping columns with Missing Values:\")\n",
    "print(\"Accuracy \\t= {0:.2f}%\".format(classifier.score(X_test, y_test)*100))\n",
    "print(\"MEA \\t\\t= {0:,.0f}\".format(mean_absolute_error(y_test, classifier.predict(X_test))))"
   ]
  },
  {
   "cell_type": "code",
   "execution_count": 5,
   "metadata": {},
   "outputs": [
    {
     "name": "stdout",
     "output_type": "stream",
     "text": [
      "Max leaf nodes: 5  \t\t Mean Absolute Error:  341,963\n",
      "Max leaf nodes: 50  \t\t Mean Absolute Error:  260,332\n",
      "Max leaf nodes: 500  \t\t Mean Absolute Error:  232,946\n",
      "Max leaf nodes: 5000  \t\t Mean Absolute Error:  245,789\n"
     ]
    }
   ],
   "source": [
    "# Function to check performance of the tree regressor based on the number of leaves\n",
    "def get_mae(max_leaf_nodes, predictors_train, predictors_val, targ_train, targ_val):\n",
    "    model = DecisionTreeRegressor(max_leaf_nodes=max_leaf_nodes, random_state=0)\n",
    "    model.fit(predictors_train, targ_train)\n",
    "    preds_val = model.predict(predictors_val)\n",
    "    mae = mean_absolute_error(targ_val, preds_val)\n",
    "    return(mae)\n",
    "\n",
    "# compare MAE with differing values of max_leaf_nodes\n",
    "for number_of_leaves in [5, 50, 500, 5000]:\n",
    "    mae = get_mae(number_of_leaves, X_train, X_test, y_train, y_test)\n",
    "    print(\"Max leaf nodes: {0:.0f}  \\t\\t Mean Absolute Error:  {1:,.0f}\".format(number_of_leaves, mae))"
   ]
  },
  {
   "cell_type": "code",
   "execution_count": 6,
   "metadata": {
    "scrolled": true
   },
   "outputs": [
    {
     "data": {
      "text/plain": [
       "<matplotlib.figure.Figure at 0x113cc46d8>"
      ]
     },
     "metadata": {},
     "output_type": "display_data"
    },
    {
     "data": {
      "image/png": "[encoded data removed]",
      "text/plain": [
       "<matplotlib.figure.Figure at 0x113356780>"
      ]
     },
     "metadata": {},
     "output_type": "display_data"
    }
   ],
   "source": [
    "# Now plot a graph of MAE vs. number of leaves\n",
    "max_leaf_nodes = range(10,10000,100)\n",
    "mae_list = [get_mae(number_of_leaves, X_train, X_test, y_train, y_test) for number_of_leaves in max_leaf_nodes]\n",
    "\n",
    "plt.clf()\n",
    "fig = plt.figure(figsize=(10,6))\n",
    "ax = fig.add_subplot(1,1,1)\n",
    "ax.plot(max_leaf_nodes, mae_list)\n",
    "ax.set_xlabel('Number of leaves')\n",
    "ax.set_ylabel('Mean Average Error (MAE)')\n",
    "plt.show()"
   ]
  },
  {
   "cell_type": "code",
   "execution_count": 7,
   "metadata": {},
   "outputs": [
    {
     "name": "stdout",
     "output_type": "stream",
     "text": [
      "Accuracy \t= 77.43%\n",
      "MEA \t\t= 194,140\n"
     ]
    }
   ],
   "source": [
    "# Now trying a more sophisticated model, the random forest regressor\n",
    "# The random forest uses many trees, and it makes a prediction by averaging the \n",
    "# predictions of each component tree. It generally has much better predictive accuracy \n",
    "# than a single decision tree and it works well with default parameters.\n",
    "forest_model = RandomForestRegressor(random_state=0)\n",
    "forest_model.fit(X_train, y_train)\n",
    "\n",
    "# Checking the confidence of the model we just trained\n",
    "print(\"Accuracy \\t= {0:.2f}%\".format(forest_model.score(X_test, y_test)*100))\n",
    "print(\"MEA \\t\\t= {0:,.0f}\".format(mean_absolute_error(y_test, forest_model.predict(X_test))))"
   ]
  },
  {
   "cell_type": "markdown",
   "metadata": {},
   "source": [
    "### 3. Trying some different configurations using RandomForest\n",
    "Now we try some different feature sets:\n",
    "- Removing columns with NaN values\n",
    "- Using Imputer to fill missing values with the mean\n",
    "- Making a copy of columns with missing values to avoid changing original data (while Imputing)"
   ]
  },
  {
   "cell_type": "code",
   "execution_count": 8,
   "metadata": {},
   "outputs": [],
   "source": [
    "# Function to measure approach (returns MAE and Accuracy)\n",
    "def score_dataset(X_train, X_test, y_train, y_test):\n",
    "    model = RandomForestRegressor(random_state=0)\n",
    "    model.fit(X_train, y_train)\n",
    "    preds = model.predict(X_test)\n",
    "    return mean_absolute_error(y_test, preds), model.score(X_test, y_test)"
   ]
  },
  {
   "cell_type": "code",
   "execution_count": 9,
   "metadata": {},
   "outputs": [],
   "source": [
    "# Loading features and label (X/y) \n",
    "X = df_housing.drop('Price', axis=1)\n",
    "y = df_housing['Price']"
   ]
  },
  {
   "cell_type": "code",
   "execution_count": 10,
   "metadata": {},
   "outputs": [
    {
     "name": "stdout",
     "output_type": "stream",
     "text": [
      "Dropping columns with Missing Values:\n",
      "Accuracy \t= 22.26%\n",
      "MEA \t\t= 389,262\n"
     ]
    }
   ],
   "source": [
    "# Model 1 - Removing columns with NaN values\n",
    "# Note: After removing the columns with NaN values the only feature left will be 'Rooms'\n",
    "\n",
    "X_train, X_test, y_train, y_test = train_test_split(X, y, test_size=0.25, random_state=0)\n",
    "\n",
    "cols_with_missing = [col for col in X_train.columns \n",
    "                                 if X_train[col].isnull().any()]\n",
    "X_train = X_train.drop(cols_with_missing, axis=1)\n",
    "X_test  = X_test.drop(cols_with_missing, axis=1)\n",
    "mea, accuracy = score_dataset(X_train, X_test, y_train, y_test)\n",
    "print(\"Dropping columns with Missing Values:\")\n",
    "print(\"Accuracy \\t= {0:.2f}%\".format(accuracy*100))\n",
    "print(\"MEA \\t\\t= {0:,.0f}\".format(mea))"
   ]
  },
  {
   "cell_type": "code",
   "execution_count": 11,
   "metadata": {},
   "outputs": [
    {
     "name": "stdout",
     "output_type": "stream",
     "text": [
      "Using Imputation (w/ mean):\n",
      "Accuracy \t= 71.70%\n",
      "MEA \t\t= 197,030\n"
     ]
    }
   ],
   "source": [
    "# Model 2 - Using Imputer to fill missing values with the mean\n",
    "my_imputer = Imputer()\n",
    "X_new = pd.DataFrame(my_imputer.fit_transform(X)) # applying mean on all X matrix (!)\n",
    "X_new.columns = X.columns\n",
    "\n",
    "X_train, X_test, y_train, y_test = train_test_split(X_new, y, test_size=0.25, random_state=0)\n",
    "\n",
    "mea, accuracy = score_dataset(X_train, X_test, y_train, y_test)\n",
    "print(\"Using Imputation (w/ mean):\")\n",
    "print(\"Accuracy \\t= {0:.2f}%\".format(accuracy*100))\n",
    "print(\"MEA \\t\\t= {0:,.0f}\".format(mea))"
   ]
  },
  {
   "cell_type": "code",
   "execution_count": 12,
   "metadata": {},
   "outputs": [
    {
     "name": "stdout",
     "output_type": "stream",
     "text": [
      "Making a copy of columns with missing values before Imputation:\n",
      "Accuracy \t= 71.65%\n",
      "MEA \t\t= 196,786\n"
     ]
    }
   ],
   "source": [
    "# Model 3 - Making a copy of columns with missing values to avoid changing original data (while Imputing)\n",
    "cols_with_missing = (col for col in X.columns \n",
    "                                 if X[col].isnull().any())\n",
    "X_copy = X.copy()\n",
    "for col in cols_with_missing:\n",
    "    X_copy[col + '_was_missing'] = X_copy[col].isnull()\n",
    "\n",
    "# Imputation - applying mean on all X matrix \n",
    "my_imputer = Imputer()\n",
    "X_new = pd.DataFrame(my_imputer.fit_transform(X_copy))\n",
    "X_new.columns = X_copy.columns\n",
    "\n",
    "X_train, X_test, y_train, y_test = train_test_split(X_new, y, test_size=0.25, random_state=0)\n",
    "\n",
    "mea, accuracy = score_dataset(X_train, X_test, y_train, y_test)\n",
    "\n",
    "print(\"Making a copy of columns with missing values before Imputation:\")\n",
    "print(\"Accuracy \\t= {0:.2f}%\".format(accuracy*100))\n",
    "print(\"MEA \\t\\t= {0:,.0f}\".format(mea))"
   ]
  }
 ],
 "metadata": {
  "kernelspec": {
   "display_name": "Python 3",
   "language": "python",
   "name": "python3"
  },
  "language_info": {
   "codemirror_mode": {
    "name": "ipython",
    "version": 3
   },
   "file_extension": ".py",
   "mimetype": "text/x-python",
   "name": "python",
   "nbconvert_exporter": "python",
   "pygments_lexer": "ipython3",
   "version": "3.5.1"
  }
 },
 "nbformat": 4,
 "nbformat_minor": 2
}
